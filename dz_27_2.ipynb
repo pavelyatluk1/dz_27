{
 "cells": [
  {
   "cell_type": "markdown",
   "id": "c4b33588",
   "metadata": {},
   "source": [
    "#### Pavlo Yatluk\n",
    "#### dz_27_2"
   ]
  },
  {
   "cell_type": "markdown",
   "id": "1f86d862",
   "metadata": {},
   "source": [
    "### ЗАВДАННЯ"
   ]
  },
  {
   "cell_type": "markdown",
   "id": "06846019",
   "metadata": {},
   "source": [
    "#### У рибальскому містечку 99,99% чоловіків хоча б раз в житті були на рибальці. Проводять соціологічні дослідження серед 10000 навмання вибраних чоловіків. Визначити дисперсію D(X) і середнє квадратичне відхилення S(X) випадкової величини Х - числа чоловіків, які жодного разу не були на рибальці."
   ]
  },
  {
   "cell_type": "markdown",
   "id": "b5a5bf66",
   "metadata": {},
   "source": [
    "### ВИРІШЕННЯ"
   ]
  },
  {
   "cell_type": "markdown",
   "id": "1d8cac1a",
   "metadata": {},
   "source": [
    "Маємо закон розподілу Пуасона, так як,\n",
    "\n",
    "кількість випробувань велика - n = 10 000, \n",
    "\n",
    "ймовірність близька до нуля - p(X) = (100 - q) / 100 = (100 - 99.99) / 100 = 0.0001 \n",
    "\n",
    "а добуток p * n = 10000 * 0.0001 = 1 < 10\n",
    "\n",
    "Отже,\n",
    "\n",
    "1) Математичне сподівання М(Х)\n",
    "\n",
    "М(Х) = n * p = 10000 * 0.0001 = 1\n",
    "\n",
    "2) Дисперсія D(X)\n",
    "\n",
    "D(X) = M(X) = n * p = 10000 * 0.0001 = 1\n",
    "\n",
    "3) Середнє квадратичне відхилення sg(X)\n",
    "\n",
    "sg(X) = D(X) ** 0.5 = 1 ** 0.5 = 1\n",
    "\n",
    "\n"
   ]
  },
  {
   "cell_type": "markdown",
   "id": "31f69ec9",
   "metadata": {},
   "source": [
    "### ВІДПОВІДЬ"
   ]
  },
  {
   "cell_type": "markdown",
   "id": "be2e9833",
   "metadata": {},
   "source": [
    "#### M(X) = 1, D(X) = 1, sg(X) = 1"
   ]
  }
 ],
 "metadata": {
  "kernelspec": {
   "display_name": "Python 3 (ipykernel)",
   "language": "python",
   "name": "python3"
  },
  "language_info": {
   "codemirror_mode": {
    "name": "ipython",
    "version": 3
   },
   "file_extension": ".py",
   "mimetype": "text/x-python",
   "name": "python",
   "nbconvert_exporter": "python",
   "pygments_lexer": "ipython3",
   "version": "3.10.8"
  }
 },
 "nbformat": 4,
 "nbformat_minor": 5
}
