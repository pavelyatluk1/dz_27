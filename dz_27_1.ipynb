{
 "cells": [
  {
   "cell_type": "markdown",
   "id": "b264d615",
   "metadata": {},
   "source": [
    "#### Pavlo Yatluk\n",
    "#### dz_27_1"
   ]
  },
  {
   "cell_type": "markdown",
   "id": "680f5d7b",
   "metadata": {},
   "source": [
    "### ЗАВДАННЯ"
   ]
  },
  {
   "cell_type": "markdown",
   "id": "c4b15160",
   "metadata": {},
   "source": [
    "#### Мікропроцесор має 10000 транзисторів, які працюють незалежно один від одного. Ймовірність того, що транзистор вийде з ладу під час роботи приладу, є величиною малоймовірною і становить 0,0007. Визначити математичне сподівання М(Х) і середнє квадратичне відхилення S(X) випадкової вкличини Х - числа транзисторів, що вийдуть із ладу під час роботи мікропроцессора."
   ]
  },
  {
   "cell_type": "markdown",
   "id": "e22da372",
   "metadata": {},
   "source": [
    "### ВИРІШЕННЯ"
   ]
  },
  {
   "cell_type": "markdown",
   "id": "6067b9f1",
   "metadata": {},
   "source": [
    "Маємо закон розподілу Пуасона, так як, \n",
    "\n",
    "кількість випробувань велика  - n = 10 000,\n",
    "\n",
    "ймовірність близька до нуля - p = 0.0007,\n",
    "\n",
    "а добуток p * n = 10000 * 0.0007 = 7 < 10\n",
    "\n",
    "Отже,\n",
    "\n",
    "1) Математичне сподівання М(Х)\n",
    "\n",
    "М(Х) = n * p = 10000 * 0.0007 = 7\n",
    "\n",
    "2) Дисперсія D(X)\n",
    "\n",
    "D(X) = M(X) = n * p = 10000 * 0.0007 = 7\n",
    "\n",
    "3) Середнє квадратичне відхилення sg(X)\n",
    "\n",
    "sg(X) = D(X) ** 0.5 = 7 ** 0.5 = 2.646\n",
    "\n"
   ]
  },
  {
   "cell_type": "markdown",
   "id": "4eb8e50c",
   "metadata": {},
   "source": [
    "### ВІДПОВІДЬ"
   ]
  },
  {
   "cell_type": "markdown",
   "id": "4e1978d0",
   "metadata": {},
   "source": [
    "#### M(X) = 7, D(X) = 7, sg(X) = 2.646"
   ]
  }
 ],
 "metadata": {
  "kernelspec": {
   "display_name": "Python 3 (ipykernel)",
   "language": "python",
   "name": "python3"
  },
  "language_info": {
   "codemirror_mode": {
    "name": "ipython",
    "version": 3
   },
   "file_extension": ".py",
   "mimetype": "text/x-python",
   "name": "python",
   "nbconvert_exporter": "python",
   "pygments_lexer": "ipython3",
   "version": "3.10.8"
  }
 },
 "nbformat": 4,
 "nbformat_minor": 5
}
